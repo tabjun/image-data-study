{
  "nbformat": 4,
  "nbformat_minor": 0,
  "metadata": {
    "colab": {
      "provenance": [],
      "gpuType": "T4",
      "include_colab_link": true
    },
    "kernelspec": {
      "name": "python3",
      "display_name": "Python 3"
    },
    "language_info": {
      "name": "python"
    },
    "accelerator": "GPU",
    "gpuClass": "standard"
  },
  "cells": [
    {
      "cell_type": "markdown",
      "metadata": {
        "id": "view-in-github",
        "colab_type": "text"
      },
      "source": [
        "<a href=\"https://colab.research.google.com/github/tabjun/image-data-study/blob/main/%EC%86%90%EA%B8%80%EC%94%A8_%EC%9D%B8%EC%8B%9D_%EB%AA%A8%EB%8D%B8_%EB%A7%8C%EB%93%A4%EA%B8%B0.ipynb\" target=\"_parent\"><img src=\"https://colab.research.google.com/assets/colab-badge.svg\" alt=\"Open In Colab\"/></a>"
      ]
    },
    {
      "cell_type": "markdown",
      "source": [
        "# 손글씨 인식 모델 만들기"
      ],
      "metadata": {
        "id": "DeaEfet43R8z"
      }
    },
    {
      "cell_type": "markdown",
      "metadata": {
        "id": "o8NQKuolPo5a"
      },
      "source": [
        "## GPU 사용\n",
        "\n"
      ]
    },
    {
      "cell_type": "code",
      "execution_count": null,
      "metadata": {
        "id": "l3D0pmJ0hYpp"
      },
      "outputs": [],
      "source": [
        "import torch\n",
        "import torch.nn as nn\n",
        "import torch.optim as optim\n",
        "import torchvision.datasets as datasets\n",
        "import torchvision.transforms as transforms\n",
        "import matplotlib.pyplot as plt"
      ]
    },
    {
      "cell_type": "code",
      "source": [
        "device = 'cuda' if torch.cuda.is_available() else 'cpu'\n",
        "\n",
        "print(device)"
      ],
      "metadata": {
        "id": "kOb8uf4GmWBX",
        "colab": {
          "base_uri": "https://localhost:8080/"
        },
        "outputId": "1cbb4c3b-4a76-4af8-cb64-be1d5585f795"
      },
      "execution_count": null,
      "outputs": [
        {
          "output_type": "stream",
          "name": "stdout",
          "text": [
            "cuda\n"
          ]
        }
      ]
    },
    {
      "cell_type": "code",
      "source": [
        "from sklearn.datasets import load_digits\n",
        "\n",
        "digits = load_digits()\n",
        "\n",
        "x_data = digits['data']\n",
        "y_data = digits['target']\n",
        "\n",
        "print(x_data.shape)\n",
        "print(y_data.shape)"
      ],
      "metadata": {
        "id": "XPTMw7cNnKQj",
        "colab": {
          "base_uri": "https://localhost:8080/"
        },
        "outputId": "138963e0-535c-4792-cf71-b35d9b8a7eb3"
      },
      "execution_count": null,
      "outputs": [
        {
          "output_type": "stream",
          "name": "stdout",
          "text": [
            "(1797, 64)\n",
            "(1797,)\n"
          ]
        }
      ]
    },
    {
      "cell_type": "code",
      "source": [
        "import matplotlib.pyplot as plt\n",
        "\n",
        "fig, axes = plt.subplots(nrows=2, ncols=5, figsize=(16, 8))\n",
        "\n",
        "for i, ax in enumerate(axes.flatten()):\n",
        "    ax.imshow(x_data[i].reshape((8, 8)), cmap='gray')\n",
        "    ax.set_title(y_data[i])\n",
        "    ax.axis('off')"
      ],
      "metadata": {
        "id": "VDi0RYI8sgZB",
        "colab": {
          "base_uri": "https://localhost:8080/",
          "height": 441
        },
        "outputId": "332e27e1-0e6b-46b4-f90a-b334027ba451"
      },
      "execution_count": null,
      "outputs": [
        {
          "output_type": "display_data",
          "data": {
            "text/plain": [
              "<Figure size 1600x800 with 10 Axes>"
            ],
            "image/png": "[encoded data removed]"
          },
          "metadata": {}
        }
      ]
    },
    {
      "cell_type": "markdown",
      "source": [
        "## 파이토치 텐서로 변환"
      ],
      "metadata": {
        "id": "2w8mpm2KwcWy"
      }
    },
    {
      "cell_type": "code",
      "source": [
        "x_data = torch.FloatTensor(x_data)\n",
        "y_data = torch.LongTensor(y_data)\n",
        "\n",
        "print(x_data.shape)\n",
        "print(y_data.shape)"
      ],
      "metadata": {
        "colab": {
          "base_uri": "https://localhost:8080/"
        },
        "id": "qeID5WwPwb9h",
        "outputId": "2dae0e4f-d5e7-41f9-b9f3-acd80bb22b01"
      },
      "execution_count": null,
      "outputs": [
        {
          "output_type": "stream",
          "name": "stdout",
          "text": [
            "torch.Size([1797, 64])\n",
            "torch.Size([1797])\n"
          ]
        }
      ]
    },
    {
      "cell_type": "markdown",
      "source": [
        "## 원핫 인코딩"
      ],
      "metadata": {
        "id": "6O9O8vJMwKfV"
      }
    },
    {
      "cell_type": "code",
      "source": [
        "y_one_hot = nn.functional.one_hot(y_data, num_classes=10).float()\n",
        "\n",
        "y_one_hot[:10]"
      ],
      "metadata": {
        "colab": {
          "base_uri": "https://localhost:8080/"
        },
        "id": "-9ogsUu8wOdK",
        "outputId": "46749031-a5e8-4a0c-c1dd-1a12d4bd38cc"
      },
      "execution_count": null,
      "outputs": [
        {
          "output_type": "execute_result",
          "data": {
            "text/plain": [
              "tensor([[1., 0., 0., 0., 0., 0., 0., 0., 0., 0.],\n",
              "        [0., 1., 0., 0., 0., 0., 0., 0., 0., 0.],\n",
              "        [0., 0., 1., 0., 0., 0., 0., 0., 0., 0.],\n",
              "        [0., 0., 0., 1., 0., 0., 0., 0., 0., 0.],\n",
              "        [0., 0., 0., 0., 1., 0., 0., 0., 0., 0.],\n",
              "        [0., 0., 0., 0., 0., 1., 0., 0., 0., 0.],\n",
              "        [0., 0., 0., 0., 0., 0., 1., 0., 0., 0.],\n",
              "        [0., 0., 0., 0., 0., 0., 0., 1., 0., 0.],\n",
              "        [0., 0., 0., 0., 0., 0., 0., 0., 1., 0.],\n",
              "        [0., 0., 0., 0., 0., 0., 0., 0., 0., 1.]])"
            ]
          },
          "metadata": {},
          "execution_count": 6
        }
      ]
    },
    {
      "cell_type": "markdown",
      "source": [
        "## 데이터 분할"
      ],
      "metadata": {
        "id": "toRsdHtVwA-n"
      }
    },
    {
      "cell_type": "code",
      "source": [
        "from sklearn.model_selection import train_test_split\n",
        "\n",
        "x_train, x_test, y_train, y_test = train_test_split(x_data, y_one_hot, test_size=0.2, random_state=2023)\n",
        "\n",
        "print(x_train.shape, y_train.shape)\n",
        "print(x_test.shape, y_test.shape)"
      ],
      "metadata": {
        "colab": {
          "base_uri": "https://localhost:8080/"
        },
        "id": "bp9_rJ0av8o1",
        "outputId": "08fcb38b-aa72-4ecc-fad7-f3a2b2551324"
      },
      "execution_count": null,
      "outputs": [
        {
          "output_type": "stream",
          "name": "stdout",
          "text": [
            "torch.Size([1437, 64]) torch.Size([1437, 10])\n",
            "torch.Size([360, 64]) torch.Size([360, 10])\n"
          ]
        }
      ]
    },
    {
      "cell_type": "markdown",
      "source": [
        "## 데이터 로더\n",
        "\n",
        "데이터의 양이 많을때 배치 단위로 학습하는 방법\n",
        "\n",
        "![](https://i.imgur.com/t83RUtL.png)\n",
        "\n",
        "> https://www.baeldung.com/cs/epoch-vs-batch-vs-mini-batch"
      ],
      "metadata": {
        "id": "W-AucrPIn-pd"
      }
    },
    {
      "cell_type": "code",
      "source": [
        "loader = torch.utils.data.DataLoader(\n",
        "    dataset=list(zip(x_train, y_train)),\n",
        "    batch_size=64,\n",
        "    shuffle=True)\n",
        "\n",
        "imgs, labels = next(iter(loader))\n",
        "\n",
        "fig, axes = plt.subplots(8, 8, figsize=(16, 16))\n",
        "\n",
        "for ax, img, label in zip(axes.flatten(), imgs, labels):\n",
        "    ax.imshow(img.reshape(8, 8), cmap='gray')\n",
        "    ax.set_title(str(torch.argmax(label)))\n",
        "    ax.axis('off')\n"
      ],
      "metadata": {
        "colab": {
          "base_uri": "https://localhost:8080/",
          "height": 930
        },
        "id": "oh7VVWPwnmr7",
        "outputId": "5c1d1598-75fe-4dd4-a88b-7c601e4434da"
      },
      "execution_count": null,
      "outputs": [
        {
          "output_type": "display_data",
          "data": {
            "text/plain": [
              "<Figure size 1600x1600 with 64 Axes>"
            ],
            "image/png": "[encoded data removed]"
          },
          "metadata": {}
        }
      ]
    },
    {
      "cell_type": "markdown",
      "source": [
        "## 모델 정의 및 훈련"
      ],
      "metadata": {
        "id": "I_XrqTU0w_9D"
      }
    },
    {
      "cell_type": "code",
      "source": [
        "model = nn.Sequential(\n",
        "    nn.Linear(64, 10),\n",
        ")\n",
        "\n",
        "optimizer = optim.Adam(model.parameters(), lr=0.01)\n",
        "\n",
        "epochs = 50\n",
        "\n",
        "for epoch in range(epochs + 1):\n",
        "    sum_losses = 0\n",
        "    sum_accs = 0\n",
        "\n",
        "    for x_batch, y_batch in loader: # 배치 단위(64개)로 데이터 로드/훈련\n",
        "        # H(x) 계산\n",
        "        y_pred = model(x_batch)\n",
        "\n",
        "        # loss 계산\n",
        "        loss = nn.CrossEntropyLoss()(y_pred, y_batch)\n",
        "\n",
        "        # loss로 H(x) 개선하는 부분\n",
        "        # gradient를 0으로 초기화\n",
        "        optimizer.zero_grad()\n",
        "        # 비용 함수를 미분하여 gradient(기울기) 계산\n",
        "        loss.backward() # backward 연산\n",
        "        # W와 b를 업데이트\n",
        "        optimizer.step()\n",
        "\n",
        "        # 배치 단위 loss 저장\n",
        "        sum_losses = sum_losses + loss\n",
        "\n",
        "        # 배치 단위 정확도 저장\n",
        "        y_prob = nn.Softmax(1)(y_pred)\n",
        "        y_pred_index = torch.argmax(y_prob, axis=1)\n",
        "        y_batch_index = torch.argmax(y_batch, axis=1)\n",
        "        acc = (y_batch_index == y_pred_index).float().sum() / len(y_batch) * 100\n",
        "\n",
        "        sum_accs = sum_accs + acc\n",
        "\n",
        "    avg_loss = sum_losses / len(loader)\n",
        "    avg_acc = sum_accs / len(loader)\n",
        "\n",
        "    print(f'Epoch {epoch:4d}/{epochs} Loss: {avg_loss:.6f} Accuracy: {avg_acc:.2f}%')"
      ],
      "metadata": {
        "colab": {
          "base_uri": "https://localhost:8080/"
        },
        "id": "X_18MF4xq5Wx",
        "outputId": "43f9132f-53c3-411c-d28d-41d94eea39ff"
      },
      "execution_count": null,
      "outputs": [
        {
          "output_type": "stream",
          "name": "stdout",
          "text": [
            "Epoch    0/50 Loss: 2.376335 Accuracy: 49.74%\n",
            "Epoch    1/50 Loss: 0.393018 Accuracy: 88.02%\n",
            "Epoch    2/50 Loss: 0.209312 Accuracy: 93.23%\n",
            "Epoch    3/50 Loss: 0.163350 Accuracy: 95.31%\n",
            "Epoch    4/50 Loss: 0.135342 Accuracy: 95.73%\n",
            "Epoch    5/50 Loss: 0.112949 Accuracy: 96.52%\n",
            "Epoch    6/50 Loss: 0.090721 Accuracy: 97.69%\n",
            "Epoch    7/50 Loss: 0.074773 Accuracy: 98.08%\n",
            "Epoch    8/50 Loss: 0.069157 Accuracy: 98.44%\n",
            "Epoch    9/50 Loss: 0.066896 Accuracy: 98.51%\n",
            "Epoch   10/50 Loss: 0.056424 Accuracy: 98.64%\n",
            "Epoch   11/50 Loss: 0.055267 Accuracy: 98.63%\n",
            "Epoch   12/50 Loss: 0.052981 Accuracy: 98.98%\n",
            "Epoch   13/50 Loss: 0.053878 Accuracy: 98.98%\n",
            "Epoch   14/50 Loss: 0.047744 Accuracy: 98.97%\n",
            "Epoch   15/50 Loss: 0.053551 Accuracy: 98.97%\n",
            "Epoch   16/50 Loss: 0.041308 Accuracy: 99.32%\n",
            "Epoch   17/50 Loss: 0.035843 Accuracy: 99.73%\n",
            "Epoch   18/50 Loss: 0.035391 Accuracy: 99.46%\n",
            "Epoch   19/50 Loss: 0.034460 Accuracy: 99.37%\n",
            "Epoch   20/50 Loss: 0.044950 Accuracy: 98.61%\n",
            "Epoch   21/50 Loss: 0.043505 Accuracy: 99.05%\n",
            "Epoch   22/50 Loss: 0.032868 Accuracy: 99.18%\n",
            "Epoch   23/50 Loss: 0.032890 Accuracy: 99.46%\n",
            "Epoch   24/50 Loss: 0.042490 Accuracy: 98.71%\n",
            "Epoch   25/50 Loss: 0.033588 Accuracy: 99.25%\n",
            "Epoch   26/50 Loss: 0.027439 Accuracy: 99.51%\n",
            "Epoch   27/50 Loss: 0.027298 Accuracy: 99.46%\n",
            "Epoch   28/50 Loss: 0.022772 Accuracy: 99.73%\n",
            "Epoch   29/50 Loss: 0.021131 Accuracy: 99.80%\n",
            "Epoch   30/50 Loss: 0.020331 Accuracy: 99.80%\n",
            "Epoch   31/50 Loss: 0.019208 Accuracy: 99.73%\n",
            "Epoch   32/50 Loss: 0.023677 Accuracy: 99.51%\n",
            "Epoch   33/50 Loss: 0.022354 Accuracy: 99.46%\n",
            "Epoch   34/50 Loss: 0.021031 Accuracy: 99.65%\n",
            "Epoch   35/50 Loss: 0.019717 Accuracy: 99.66%\n",
            "Epoch   36/50 Loss: 0.016473 Accuracy: 99.80%\n",
            "Epoch   37/50 Loss: 0.020582 Accuracy: 99.73%\n",
            "Epoch   38/50 Loss: 0.017206 Accuracy: 99.66%\n",
            "Epoch   39/50 Loss: 0.017468 Accuracy: 99.80%\n",
            "Epoch   40/50 Loss: 0.014530 Accuracy: 99.73%\n",
            "Epoch   41/50 Loss: 0.014771 Accuracy: 100.00%\n",
            "Epoch   42/50 Loss: 0.016423 Accuracy: 99.73%\n",
            "Epoch   43/50 Loss: 0.015073 Accuracy: 99.65%\n",
            "Epoch   44/50 Loss: 0.013328 Accuracy: 99.80%\n",
            "Epoch   45/50 Loss: 0.012347 Accuracy: 99.86%\n",
            "Epoch   46/50 Loss: 0.011693 Accuracy: 99.93%\n",
            "Epoch   47/50 Loss: 0.011361 Accuracy: 99.93%\n",
            "Epoch   48/50 Loss: 0.013002 Accuracy: 99.93%\n",
            "Epoch   49/50 Loss: 0.010309 Accuracy: 100.00%\n",
            "Epoch   50/50 Loss: 0.010410 Accuracy: 99.93%\n"
          ]
        }
      ]
    },
    {
      "cell_type": "markdown",
      "source": [
        "## 테스트"
      ],
      "metadata": {
        "id": "KXeisbvDyx_u"
      }
    },
    {
      "cell_type": "code",
      "source": [
        "plt.imshow(x_test[0].reshape((8, 8)), cmap='gray')"
      ],
      "metadata": {
        "colab": {
          "base_uri": "https://localhost:8080/",
          "height": 448
        },
        "id": "zb4WG9j5zSwH",
        "outputId": "b77fd2ea-62cf-4b73-a826-9c11a9424d0a"
      },
      "execution_count": null,
      "outputs": [
        {
          "output_type": "execute_result",
          "data": {
            "text/plain": [
              "<matplotlib.image.AxesImage at 0x7fef80ed6950>"
            ]
          },
          "metadata": {},
          "execution_count": 10
        },
        {
          "output_type": "display_data",
          "data": {
            "text/plain": [
              "<Figure size 640x480 with 1 Axes>"
            ],
            "image/png": "[encoded data removed]"
          },
          "metadata": {}
        }
      ]
    },
    {
      "cell_type": "code",
      "source": [
        "y_pred = model(x_test)\n",
        "\n",
        "y_pred[0]"
      ],
      "metadata": {
        "colab": {
          "base_uri": "https://localhost:8080/"
        },
        "id": "yrUZGEpdyqUP",
        "outputId": "5fb2ab31-0549-44d1-9024-d61b594b27fb"
      },
      "execution_count": null,
      "outputs": [
        {
          "output_type": "execute_result",
          "data": {
            "text/plain": [
              "tensor([ -0.0263,   0.6203, -19.4810,   1.2392,  -8.0286,  11.2914,   5.6595,\n",
              "          0.1392,  -0.1213,  -2.0110], grad_fn=<SelectBackward0>)"
            ]
          },
          "metadata": {},
          "execution_count": 11
        }
      ]
    },
    {
      "cell_type": "code",
      "source": [
        "y_prob = nn.Softmax(1)(y_pred)\n",
        "\n",
        "y_prob[0]"
      ],
      "metadata": {
        "colab": {
          "base_uri": "https://localhost:8080/"
        },
        "id": "Hq5PL9qKy13h",
        "outputId": "81f896f0-96b2-418c-ae85-364dcd506f19"
      },
      "execution_count": null,
      "outputs": [
        {
          "output_type": "execute_result",
          "data": {
            "text/plain": [
              "tensor([1.2111e-05, 2.3121e-05, 4.3064e-14, 4.2933e-05, 4.0535e-09, 9.9633e-01,\n",
              "        3.5686e-03, 1.4292e-05, 1.1013e-05, 1.6644e-06],\n",
              "       grad_fn=<SelectBackward0>)"
            ]
          },
          "metadata": {},
          "execution_count": 12
        }
      ]
    },
    {
      "cell_type": "code",
      "source": [
        "for i in range(10):\n",
        "    print(f'숫자 {i}일 확률: {y_prob[0][i]:.2f}')"
      ],
      "metadata": {
        "colab": {
          "base_uri": "https://localhost:8080/"
        },
        "id": "0TyMKvqJy4RU",
        "outputId": "131b4d0a-5787-4c7c-ec8e-09d86b09f26c"
      },
      "execution_count": null,
      "outputs": [
        {
          "output_type": "stream",
          "name": "stdout",
          "text": [
            "숫자 0일 확률: 0.00\n",
            "숫자 1일 확률: 0.00\n",
            "숫자 2일 확률: 0.00\n",
            "숫자 3일 확률: 0.00\n",
            "숫자 4일 확률: 0.00\n",
            "숫자 5일 확률: 1.00\n",
            "숫자 6일 확률: 0.00\n",
            "숫자 7일 확률: 0.00\n",
            "숫자 8일 확률: 0.00\n",
            "숫자 9일 확률: 0.00\n"
          ]
        }
      ]
    },
    {
      "cell_type": "code",
      "source": [
        "y_pred_index = torch.argmax(y_prob, axis=1)\n",
        "y_test_index = torch.argmax(y_test, axis=1)\n",
        "accuracy = (y_test_index == y_pred_index).float().sum() / len(y_test) * 100\n",
        "\n",
        "print(f'테스트 정확도는 {accuracy:.2f}% ')"
      ],
      "metadata": {
        "id": "zlMCRVsTzAzE",
        "colab": {
          "base_uri": "https://localhost:8080/"
        },
        "outputId": "f6b2c76b-8b33-4077-eadc-a236373b3d2b"
      },
      "execution_count": null,
      "outputs": [
        {
          "output_type": "stream",
          "name": "stdout",
          "text": [
            "테스트 정확도는 97.22% 입니다!\n"
          ]
        }
      ]
    }
  ]
}